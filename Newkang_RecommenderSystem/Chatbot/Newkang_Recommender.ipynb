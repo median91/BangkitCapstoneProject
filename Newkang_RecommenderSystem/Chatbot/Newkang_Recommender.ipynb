{
 "cells": [
  {
   "cell_type": "markdown",
   "id": "baking-decrease",
   "metadata": {},
   "source": [
    "1. Importing packages\n"
   ]
  },
  {
   "cell_type": "code",
   "execution_count": 1,
   "id": "oriented-state",
   "metadata": {},
   "outputs": [],
   "source": [
    "import tensorflow as tf\n",
    "import json\n",
    "import random\n",
    "import pandas as pd\n",
    "import nltk\n",
    "from Sastrawi.Stemmer.StemmerFactory import StemmerFactory\n",
    "import numpy as np\n",
    "from keras.models import Sequential\n",
    "from keras.layers import Dense, Activation, Dropout\n",
    "from keras.optimizers import SGD\n",
    "from keras.models import load_model\n",
    "from keras.models import model_from_json\n"
   ]
  },
  {
   "cell_type": "markdown",
   "id": "pharmaceutical-dictionary",
   "metadata": {},
   "source": [
    "2. NLTK and Importing the data\n"
   ]
  },
  {
   "cell_type": "code",
   "execution_count": 2,
   "id": "informal-blogger",
   "metadata": {},
   "outputs": [
    {
     "name": "stderr",
     "output_type": "stream",
     "text": [
      "[nltk_data] Downloading package punkt to\n",
      "[nltk_data]     C:\\Users\\asus\\AppData\\Roaming\\nltk_data...\n",
      "[nltk_data]   Package punkt is already up-to-date!\n"
     ]
    }
   ],
   "source": [
    "factory = StemmerFactory()\n",
    "stemmer = factory.create_stemmer()\n",
    "nltk.download('punkt')\n",
    "with open('intents2.json') as file:\n",
    "    data = json.load(file)\n"
   ]
  },
  {
   "cell_type": "markdown",
   "id": "lonely-maker",
   "metadata": {},
   "source": [
    "3. Creating Training Data"
   ]
  },
  {
   "cell_type": "code",
   "execution_count": 3,
   "id": "plain-tours",
   "metadata": {},
   "outputs": [
    {
     "name": "stderr",
     "output_type": "stream",
     "text": [
      "<ipython-input-3-79faf1500f6a>:46: VisibleDeprecationWarning: Creating an ndarray from ragged nested sequences (which is a list-or-tuple of lists-or-tuples-or ndarrays with different lengths or shapes) is deprecated. If you meant to do this, you must specify 'dtype=object' when creating the ndarray\n",
      "  training = np.array(training)\n"
     ]
    }
   ],
   "source": [
    "\n",
    "words = []\n",
    "classes = []\n",
    "documents = []\n",
    "ignore_words = ['?']\n",
    "# loop through each sentence in our intents patterns\n",
    "for intent in data['intents']:\n",
    "    for pattern in intent['patterns']:\n",
    "        # tokenize each word in the sentence\n",
    "        w = nltk.word_tokenize(pattern)\n",
    "        # add to our words list\n",
    "        words.extend(w)\n",
    "        # add to documents in our corpus\n",
    "        documents.append((w, intent['tag']))\n",
    "        # add to our classes list\n",
    "        if intent['tag'] not in classes:\n",
    "            classes.append(intent['tag'])\n",
    "# stem and lower each word and remove duplicates\n",
    "words = [stemmer.stem(w.lower()) for w in words if w not in ignore_words]\n",
    "words = sorted(list(set(words)))\n",
    "# sort classes\n",
    "classes = sorted(list(set(classes)))\n",
    "\n",
    "# create our training data\n",
    "training = []\n",
    "# create an empty array for our output\n",
    "output_empty = [0] * len(classes)\n",
    "# training set, bag of words for each sentence\n",
    "for doc in documents:\n",
    "    # initialize our bag of words\n",
    "    bag = []\n",
    "    # list of tokenized words for the pattern\n",
    "    pattern_words = doc[0]\n",
    "    # stem each word - create base word, in attempt to represent related words\n",
    "    pattern_words = [stemmer.stem(word.lower()) for word in pattern_words]\n",
    "    # create our bag of words array with 1, if word match found in current pattern\n",
    "    for w in words:\n",
    "        bag.append(1) if w in pattern_words else bag.append(0)\n",
    "    \n",
    "    # output is a '0' for each tag and '1' for current tag (for each pattern)\n",
    "    output_row = list(output_empty)\n",
    "    output_row[classes.index(doc[1])] = 1\n",
    "    \n",
    "    training.append([bag, output_row])\n",
    "# shuffle our features and turn into np.array\n",
    "random.shuffle(training)\n",
    "training = np.array(training)\n",
    "# create train and test lists. X - patterns, Y - intents\n",
    "train_x = list(training[:,0])\n",
    "train_y = list(training[:,1])"
   ]
  },
  {
   "cell_type": "markdown",
   "id": "obvious-music",
   "metadata": {},
   "source": [
    "4. Save and Load Model"
   ]
  },
  {
   "cell_type": "code",
   "execution_count": 4,
   "id": "frank-butler",
   "metadata": {
    "tags": []
   },
   "outputs": [],
   "source": [
    "try:\n",
    "    json_file = open('model.json', 'r')\n",
    "    loaded_model_json = json_file.read()\n",
    "    json_file.close()\n",
    "    model = model_from_json(loaded_model_json)\n",
    "    # load weights into new model\n",
    "    model.load_weights(\"model.h5\")\n",
    "\n",
    "except:\n",
    "    tf.compat.v1.reset_default_graph()\n",
    "    model = Sequential()\n",
    "    model.add(Dense(128, input_shape=(len(train_x[0]),), activation='relu'))\n",
    "    model.add(Dropout(0.5))\n",
    "    model.add(Dense(64, activation='relu'))\n",
    "    model.add(Dropout(0.5))\n",
    "    model.add(Dense(len(train_y[0]), activation='softmax'))\n",
    "\n",
    "    sgd = SGD(lr=0.01, decay=1e-6, momentum=0.9, nesterov=True)\n",
    "    model.compile(loss='categorical_crossentropy',\n",
    "                  optimizer=sgd, metrics=['accuracy'])\n",
    "\n",
    "    model.fit(np.array(train_x), np.array(train_y),\n",
    "              epochs=200, batch_size=5, verbose=1)\n",
    "    model.save(\"saved_model\")\n",
    "    model_json = model.to_json()\n",
    "    with open(\"model.json\", \"w\") as json_file:\n",
    "        json_file.write(model_json)\n",
    "    # serialize weights to HDF5\n",
    "    model.save_weights(\"model.h5\")\n",
    "    "
   ]
  },
  {
   "cell_type": "code",
   "execution_count": 5,
   "id": "diagnostic-premises",
   "metadata": {},
   "outputs": [
    {
     "name": "stdout",
     "output_type": "stream",
     "text": [
      "INFO:tensorflow:Assets written to: C:\\Users\\asus\\AppData\\Local\\Temp\\tmp1pzsmjxh\\assets\n"
     ]
    }
   ],
   "source": [
    "#save to tflite\n",
    "# Convert the model.\n",
    "converter = tf.lite.TFLiteConverter.from_keras_model(model)\n",
    "tflite_model = converter.convert()\n",
    "    \n",
    "# Save the model.\n",
    "with open('model.tflite', 'wb') as f:\n",
    "    f.write(tflite_model)\n"
   ]
  },
  {
   "cell_type": "markdown",
   "id": "attended-village",
   "metadata": {},
   "source": [
    "5. Some Other Things\n"
   ]
  },
  {
   "cell_type": "code",
   "execution_count": 6,
   "id": "fixed-hundred",
   "metadata": {},
   "outputs": [],
   "source": [
    "def clean_up_sentence(sentence):\n",
    "    # tokenize the pattern - split words into array\n",
    "    sentence_words = nltk.word_tokenize(sentence)\n",
    "    # stem each word - create short form for word\n",
    "    sentence_words = [stemmer.stem(word.lower()) for word in sentence_words]\n",
    "    return sentence_words\n",
    "# return bag of words array: 0 or 1 for each word in the bag that exists in the sentence\n",
    "def bow(sentence, words, show_details=True):\n",
    "    # tokenize the pattern\n",
    "    sentence_words = clean_up_sentence(sentence)\n",
    "    # bag of words - matrix of N words, vocabulary matrix\n",
    "    bag = [0]*len(words)  \n",
    "    for s in sentence_words:\n",
    "        for i,w in enumerate(words):\n",
    "            if w == s: \n",
    "                # assign 1 if current word is in the vocabulary position\n",
    "                bag[i] = 1\n",
    "    return(np.array(bag))"
   ]
  },
  {
   "cell_type": "code",
   "execution_count": 7,
   "id": "independent-helmet",
   "metadata": {},
   "outputs": [],
   "source": [
    "def classify_local(sentence):\n",
    "    ERROR_THRESHOLD = 0.25\n",
    "    \n",
    "    # generate probabilities from the model\n",
    "    input_data = pd.DataFrame([bow(sentence, words)], dtype=float, index=['input'])\n",
    "    results = model.predict([input_data])[0]\n",
    "    # filter out predictions below a threshold, and provide intent index\n",
    "    results = [[i,r] for i,r in enumerate(results) if r>ERROR_THRESHOLD]\n",
    "    # sort by strength of probability\n",
    "    results.sort(key=lambda x: x[1], reverse=True)\n",
    "    return_list = []\n",
    "    for r in results:\n",
    "        return_list.append((classes[r[0]], str(r[1])))\n",
    "    # return tuple of intent and probability\n",
    "    \n",
    "    return classes[r[0]]"
   ]
  },
  {
   "cell_type": "code",
   "execution_count": 15,
   "id": "premier-junction",
   "metadata": {},
   "outputs": [
    {
     "name": "stdout",
     "output_type": "stream",
     "text": [
      "Ceritakan permasalahan Anda\n",
      "Anda: berhubung masih lebaran saya ingin mengecat dinding, membenahi pintu, mengecat pagar besi karena sudah berkarat dan memperbaiki toilet tersumbat\n",
      "   KODE     nama                                alamat  \\\n",
      "6   T07  Bambang     Demangan, Gondokusomo, Yogyakarta   \n",
      "12  T13  Pramono        Prenggan, Kotagede, Yogyakarta   \n",
      "22  T23     Andi  Purwokinanti, Pakualaman, Yogyakarta   \n",
      "26  T27  Pramono      Ngampilan, Ngampilan, Yogyakarta   \n",
      "32  T33      Ari  Warungboroto, Umbulharjo, Yogyakarta   \n",
      "41  T42   Suyadi          Bener, Tegalrejo, Yogyakarta   \n",
      "47  T48  Sujarsi              Wates, Wates, Yogyakarta   \n",
      "\n",
      "                                              layanan     Gaji  Rating  umur  \n",
      "6   WC, Atap, Tembok, Pintu, Jendela, Cat Dinding,...  89621.0     5.0  30.0  \n",
      "12            WC, Atap, Tembok, Cat Dinding, Cat Seng  86555.0     5.0  28.0  \n",
      "22            WC, Atap, Tembok, Cat Dinding, Cat Seng  89091.0     4.5  32.0  \n",
      "26            WC, Atap, Tembok, Cat Dinding, Cat Seng  89900.0     4.5  29.0  \n",
      "32          Atap, Tembok, Pintu, Jendela, Cat Dinding  88765.0     5.0  31.0  \n",
      "41  WC, Atap, Tembok, Pintu,Lantai, Cat Dinding, C...  90771.0     5.0  28.0  \n",
      "47  Pintu, Jendela, Atap, Lantai, Cat Dinding, Cat...  88939.0     4.5  34.0  \n"
     ]
    }
   ],
   "source": [
    "order = []\n",
    "\n",
    "def recommend():\n",
    "    print(\"Ceritakan permasalahan Anda\")\n",
    "    while True:\n",
    "        inp = input(\"Anda: \")\n",
    "\n",
    "        tag = classify_local(inp)\n",
    "        if tag == 'cat dinding' and 'Cat Dinding' not in order:\n",
    "            order.append('Cat Dinding')\n",
    "        if tag == 'cat atap' and 'Cat Seng' not in order:\n",
    "            order.append('Cat Seng')\n",
    "\n",
    "        if tag == 'atap' and 'Atap' not in order:\n",
    "            order.append('Atap')\n",
    "\n",
    "        if tag == 'tembok' and 'Tembok' not in order:\n",
    "            order.append('Tembok')\n",
    "\n",
    "        if tag == 'pintu' and 'Pintu' not in order:\n",
    "            order.append('Pintu')\n",
    "\n",
    "        if tag == 'jendela' and 'Jendela' not in order:\n",
    "            order.append('Jendela')\n",
    "\n",
    "        if tag == 'wc' and 'WC' not in order:\n",
    "            order.append('WC')\n",
    "\n",
    "        if tag == 'lantai' and 'Lantai' not in order:\n",
    "            order.append('Lantai')\n",
    "        try:\n",
    "            print(filter(order, df))\n",
    "        except:\n",
    "            break\n",
    "        break\n",
    "\n",
    "\n",
    "def filter(order, df):\n",
    "    for i in order:\n",
    "        df_filtered = df[df['layanan'].str.contains(\n",
    "            i, regex=False, case=False, na=False)]\n",
    "    return df_filtered.where(df['Rating'] > 4.0).dropna().loc[:, 'KODE':].head(10)\n",
    "\n",
    "\n",
    "df = pd.read_csv('capsdata.csv')\n",
    "\n",
    "recommend()"
   ]
  },
  {
   "cell_type": "code",
   "execution_count": null,
   "id": "polar-diary",
   "metadata": {},
   "outputs": [],
   "source": []
  }
 ],
 "metadata": {
  "kernelspec": {
   "display_name": "Python 3",
   "language": "python",
   "name": "python3"
  },
  "language_info": {
   "codemirror_mode": {
    "name": "ipython",
    "version": 3
   },
   "file_extension": ".py",
   "mimetype": "text/x-python",
   "name": "python",
   "nbconvert_exporter": "python",
   "pygments_lexer": "ipython3",
   "version": "3.8.8"
  }
 },
 "nbformat": 4,
 "nbformat_minor": 5
}
